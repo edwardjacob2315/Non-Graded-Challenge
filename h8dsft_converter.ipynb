{
 "cells": [
  {
   "cell_type": "code",
   "execution_count": 1,
   "metadata": {},
   "outputs": [],
   "source": [
    "import pandas as pd"
   ]
  },
  {
   "cell_type": "markdown",
   "metadata": {},
   "source": [
    "Membuat fungsi Kelvin ke Celcius"
   ]
  },
  {
   "cell_type": "code",
   "execution_count": 1,
   "metadata": {},
   "outputs": [
    {
     "name": "stdout",
     "output_type": "stream",
     "text": [
      "26.850000000000023\n"
     ]
    }
   ],
   "source": [
    "#fungsi Kelvin ke Celcius\n",
    "def kel2cel(suhu):\n",
    "    print(suhu - 273.15)   \n",
    "\n",
    "#tes fungsi\n",
    "kel2cel(300)"
   ]
  },
  {
   "cell_type": "markdown",
   "metadata": {},
   "source": [
    "Membuat fungsi Celcius ke Kelvin"
   ]
  },
  {
   "cell_type": "code",
   "execution_count": 2,
   "metadata": {},
   "outputs": [
    {
     "name": "stdout",
     "output_type": "stream",
     "text": [
      "300.0\n"
     ]
    }
   ],
   "source": [
    "#fungsi Celcius ke Kelvin\n",
    "def cel2kel(suhu):\n",
    "    print(suhu + 273.15)   \n",
    "\n",
    "#tes fungsi\n",
    "cel2kel(26.850000000000023)"
   ]
  },
  {
   "cell_type": "code",
   "execution_count": 61,
   "metadata": {},
   "outputs": [
    {
     "name": "stdout",
     "output_type": "stream",
     "text": [
      "suhu kelvin ke fahrenheit: -423.66999999999996\n"
     ]
    }
   ],
   "source": [
    "#fungsi ke fahrenheit\n",
    "def to_fahr(temp,degree='celcius'):\n",
    "    if degree=='celcius':\n",
    "        print('suhu celcius ke fahrenheit:',(temp*9/5)+32)\n",
    "    elif degree=='kelvin':\n",
    "        print('suhu kelvin ke fahrenheit:',((temp-273.15)*(9/5)+32))\n",
    "        \n",
    "#tes funsgi\n",
    "to_fahr(20,'kelvin')"
   ]
  },
  {
   "cell_type": "code",
   "execution_count": 63,
   "metadata": {},
   "outputs": [
    {
     "name": "stdout",
     "output_type": "stream",
     "text": [
      "suhu fahrenheit ke kelvin: 266.4833333333333\n"
     ]
    }
   ],
   "source": [
    "#fungsi dari fahrenheit ke celcius dan kelvin\n",
    "\n",
    "#fungsi ke fahrenheit\n",
    "def from_fahr(temp,from_degree='celcius'):\n",
    "    if from_degree=='celcius':\n",
    "        print('suhu fahrenheit ke celcius:',(temp-32)*5/9)\n",
    "    elif from_degree=='kelvin':\n",
    "        print('suhu fahrenheit ke kelvin:',(temp-32)*(5/9)+273.15)\n",
    "        \n",
    "#tes funsgi\n",
    "from_fahr(20,'kelvin')"
   ]
  }
 ],
 "metadata": {
  "kernelspec": {
   "display_name": "Python 3",
   "language": "python",
   "name": "python3"
  },
  "language_info": {
   "codemirror_mode": {
    "name": "ipython",
    "version": 3
   },
   "file_extension": ".py",
   "mimetype": "text/x-python",
   "name": "python",
   "nbconvert_exporter": "python",
   "pygments_lexer": "ipython3",
   "version": "3.8.5"
  }
 },
 "nbformat": 4,
 "nbformat_minor": 4
}
